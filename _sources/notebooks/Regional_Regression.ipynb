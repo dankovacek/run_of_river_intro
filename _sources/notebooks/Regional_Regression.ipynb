{
 "cells": [
  {
   "cell_type": "markdown",
   "id": "frequent-distinction",
   "metadata": {},
   "source": [
    "# Estimating Long-Term Runoff using Regional Regression\n",
    "\n",
    "In this exercise, we'll run through a simplified method of estimating runoff at a potential hydropower location in a basin that hasn't been gauged.  We'll use the Python programming language, we'll access data from the Water Survey of Canada, and we'll make a series of estimates of flow based on other rivers in the area where flow has been measured for a long time.  We'll then use the three regional stations to estimate energy at our project location to see how close they are.  \n",
    "\n",
    ">The goal is to give you a sense of how much local variability there is in hydrologic conditions in the lower mainland.  \n",
    "\n",
    "Water Survey of Canada is the government organization that maintains a nation-wide network of streamflow monitoring stations.  There are roughly 2100 active monitoring stations in Canada, and while this is a large number, it is small in comparison to the number of streams and rivers, and the distribution of stations is biased to developed areas.\n",
    "\n",
    "![Active Hydrometric Monitoring Stations in Canada](img/CAN_network_map.png)\n",
    ">Realtime flow monitoring (source: Hamilton, Stuart. (0002). Winter Hydrometry: Real-Time Data Issues."
   ]
  },
  {
   "cell_type": "markdown",
   "id": "pursuant-yesterday",
   "metadata": {},
   "source": [
    "In addition to the active stations, there are roughly 6000 inactive stations where historical data can be drawn from.  This data is free, and openly available to the public through [Environment Canada's Datamart web portal](https://wateroffice.ec.gc.ca/mainmenu/real_time_data_index_e.html).\n",
    "\n",
    "Open the datamart in a new window and go to the **Map Search**.  Choose BC as the \"Province or Territory\" and click on **\"Go\"**.  A map view of hydrometric stations in BC will render in your browser.  \n",
    "\n",
    "Zoom into the region east of Vancouver, in the region of Harrison Lake, as shown below.  There are two stars drawn (excellently) on the map indicating locations we're interested in for run-of-river hydro.  \n",
    "\n",
    "In order to figure out how much water we might expect in the basins where the stars are drawn, we need to look at long-term measured records in the nearby area.  \n",
    "\n",
    "![Map of active stations near Harrison Lake](img/harrison_lake_map1.png)\n",
    ">Map of active stations near Harrison Lake (source: Water Survey of Canada)"
   ]
  },
  {
   "cell_type": "markdown",
   "id": "overhead-boring",
   "metadata": {},
   "source": [
    "Using the map view, retrieve the station ID numbers and store them as **strings** in different variables.  i.e.:\n",
    "\n",
    "`stn1 = '08EA004'`  <-- here the single quote `'` surrounding a group of characters makes a string."
   ]
  },
  {
   "cell_type": "code",
   "execution_count": null,
   "id": "empty-tension",
   "metadata": {},
   "outputs": [],
   "source": [
    "# find the three station numbers and store them in three variables\n",
    "stn1 = '' \n",
    "stn2 = ''\n",
    "stn3 = ''"
   ]
  },
  {
   "cell_type": "markdown",
   "id": "endless-happiness",
   "metadata": {},
   "source": [
    "Below we are going to access daily flows for these stations directly from Datamart.\n",
    "\n",
    "**Note**: Datamart is for realtime and recent data.  Long-term (historical) records are available for these stations using the [BC Water Tool](https://kwt.bcwatertool.ca/streamflow)."
   ]
  },
  {
   "cell_type": "code",
   "execution_count": null,
   "id": "organic-fireplace",
   "metadata": {},
   "outputs": [],
   "source": [
    "# you can get daily data for the last month\n",
    "datamart_link_daily = 'https://dd.weather.gc.ca/hydrometric/csv/BC/daily/'\n",
    "# you can also get hourly data for the latest 24 hours\n",
    "datamart_link_daily = 'https://dd.weather.gc.ca/hydrometric/csv/BC/daily/'"
   ]
  },
  {
   "cell_type": "code",
   "execution_count": null,
   "id": "proof-virgin",
   "metadata": {},
   "outputs": [],
   "source": [
    "# !pip install pandas bokeh"
   ]
  },
  {
   "cell_type": "code",
   "execution_count": null,
   "id": "opened-billion",
   "metadata": {},
   "outputs": [],
   "source": [
    "# pandas is a library for manipulating large amounts of data,\n",
    "# sort of like Excel without a user interface.\n",
    "import pandas as pd\n",
    "\n",
    "filename = f'BC_{stn1}_daily_hydrometric.csv'\n",
    "\n",
    "# import the data for the first station\n"
   ]
  },
  {
   "cell_type": "markdown",
   "id": "intensive-dylan",
   "metadata": {},
   "source": [
    "We want to compare flow at the three stations.  Let's put all of the data together into one dataframe."
   ]
  },
  {
   "cell_type": "code",
   "execution_count": null,
   "id": "compatible-bandwidth",
   "metadata": {},
   "outputs": [],
   "source": [
    "# create an empty list\n",
    "\n",
    "# create a list of the station names\n",
    "\n",
    "\n",
    "# loop through the filenames and store each dataframe in the list\n",
    "\n"
   ]
  },
  {
   "cell_type": "code",
   "execution_count": null,
   "id": "threatened-recorder",
   "metadata": {},
   "outputs": [],
   "source": [
    "# concatenate the list of dataframes into a single dataframe\n",
    "# inner join means to keep only concurrent data (flow values on the same day)\n"
   ]
  },
  {
   "cell_type": "code",
   "execution_count": null,
   "id": "junior-magazine",
   "metadata": {},
   "outputs": [],
   "source": [
    "# plot the data\n"
   ]
  },
  {
   "cell_type": "markdown",
   "id": "valued-moldova",
   "metadata": {},
   "source": [
    "Now let's compare the three using linear regression.\n",
    "\n",
    "[Background information on Linear Regression](https://www.khanacademy.org/math/statistics-probability/describing-relationships-quantitative-data/introduction-to-trend-lines/a/linear-regression-review).\n",
    "\n",
    "An excellent library for data visualization is [Bokeh](https://docs.bokeh.org/en/latest/index.html)."
   ]
  },
  {
   "cell_type": "code",
   "execution_count": null,
   "id": "dutch-latvia",
   "metadata": {},
   "outputs": [],
   "source": [
    "from bokeh.plotting import figure, show\n",
    "from bokeh.io import output_notebook\n",
    "\n",
    "# this makes the figure render within jupyter instead of a new window\n",
    "output_notebook()"
   ]
  },
  {
   "cell_type": "code",
   "execution_count": null,
   "id": "front-fairy",
   "metadata": {},
   "outputs": [],
   "source": [
    "# make a regression plot of two stations\n",
    "# a regression plot in this case compares flows\n",
    "# occurring at the same time in two different places\n",
    "# each point coordinate (x, y) --> (q1, q2)\n",
    "\n"
   ]
  },
  {
   "cell_type": "code",
   "execution_count": null,
   "id": "preliminary-korea",
   "metadata": {},
   "outputs": [],
   "source": [
    "# retrive long-term data pre-saved in the data folder\n",
    "\n",
    "lt_dfs = []\n",
    "for stn in station_list:\n",
    "    # I saved long-term data ahead of time in the 'data/' folder\n",
    "    filename = f'data/{stn}.csv'\n",
    "    \n",
    "    df = pd.read_csv(filename, header=13,\n",
    "                  parse_dates=['Datetime'], index_col='Datetime',\n",
    "                 infer_datetime_format=True)\n",
    "    \n",
    "    # how many analysis types are there?\n",
    "    df.head()"
   ]
  },
  {
   "cell_type": "markdown",
   "id": "consecutive-alberta",
   "metadata": {},
   "source": [
    "Find the long-term mean annual discharge (**MAD**) for these three sites.\n"
   ]
  },
  {
   "cell_type": "code",
   "execution_count": null,
   "id": "configured-begin",
   "metadata": {},
   "outputs": [],
   "source": []
  },
  {
   "cell_type": "markdown",
   "id": "informed-dress",
   "metadata": {},
   "source": [
    "These mean annual flow numbers look pretty similar.  \n",
    "\n",
    ">Can we just use this number for our basin and calculate energy?\n",
    "\n"
   ]
  },
  {
   "cell_type": "markdown",
   "id": "widespread-tongue",
   "metadata": {},
   "source": [
    "### Unit-Area Runoff\n",
    "\n",
    "**How do the three stations compare on a unit-area basis?**\n",
    "\n",
    "Unit area runoff is commonly expressed in $\\frac{L}{s \\cdot km^2}$ or $mm$.\n",
    "\n",
    "$$ \\frac{1 \\frac{m^3}{s} \\cdot 1000 \\frac{L}{m^3}}{A_{basin} \\ km^2} = UR \\frac{L}{s\\cdot km^2}$$\n",
    "\n",
    "### Convert Volume to volmeteric flow units\n",
    "\n",
    "Flow is typically measured in $\\frac{m^3}{s}$, but runoff is sometimes reported in $mm$ (same as precipitation), so convert $\\frac{mm}{day}$ precipitation to $\\frac{m^3}{s}$ runoff (ignore evaporation, interception, infiltration, etc.).\n",
    "\n",
    "$$1 \\frac{mm}{day} \\times \\frac{1 m}{1000 mm} \\times \\frac{1 day}{24 h} \\times \\frac{1 h}{ 3600 s} \\times 1 km^2 \\times \\frac{1000 m \\times 1000 m}{1 km^2}= \\frac{1}{86.4} \\frac{m^3}{s}$$"
   ]
  },
  {
   "cell_type": "code",
   "execution_count": null,
   "id": "likely-reset",
   "metadata": {},
   "outputs": [],
   "source": [
    "stn_das = {'08MF065': 712,\n",
    "          '08MH147': 290,\n",
    "          '08MG001': 383}\n",
    "\n",
    "# make a copy of the flow dataframe\n",
    "lt_ur = lt_df.copy()\n",
    "for stn in station_list:\n",
    "    lt_ur[stn] = 1000 * lt_ur[stn] / stn_das[stn]"
   ]
  },
  {
   "cell_type": "code",
   "execution_count": null,
   "id": "outside-public",
   "metadata": {},
   "outputs": [],
   "source": [
    "lt_ur.head()"
   ]
  },
  {
   "cell_type": "code",
   "execution_count": null,
   "id": "fewer-conjunction",
   "metadata": {},
   "outputs": [],
   "source": []
  },
  {
   "cell_type": "markdown",
   "id": "tracked-salon",
   "metadata": {},
   "source": [
    "### Plot daily flows with bokeh for more interactivity"
   ]
  },
  {
   "cell_type": "code",
   "execution_count": null,
   "id": "handled-chicago",
   "metadata": {},
   "outputs": [],
   "source": [
    "p = figure(width=800, height=400, title=f'Unit Runoff Comparison', x_axis_type='datetime')\n",
    "\n",
    "p.line(lt_ur.index, lt_ur[stn1], legend_label=stn1, color='green', alpha=0.5)\n",
    "p.line(lt_ur.index, lt_ur[stn2], legend_label=stn2, color='orange', alpha=0.5)\n",
    "p.line(lt_ur.index, lt_ur[stn3], legend_label=stn3, color='blue', alpha=0.5)\n",
    "\n",
    "p.xaxis.axis_label = \"Date\"\n",
    "p.yaxis.axis_label = \"Unit Runoff [L/s/km^2]\"\n",
    "p.legend.click_policy = 'hide'\n",
    "show(p)"
   ]
  },
  {
   "cell_type": "markdown",
   "id": "golden-hurricane",
   "metadata": {},
   "source": [
    "### Create an Annual Runoff Hydrograph\n",
    "\n",
    "Looking at daily runoff values is informative for the daily level, but to get an idea of long-term trends, average the data over months and plot monthly values for the 'average' year.  "
   ]
  },
  {
   "cell_type": "code",
   "execution_count": null,
   "id": "widespread-photographer",
   "metadata": {},
   "outputs": [],
   "source": []
  },
  {
   "cell_type": "markdown",
   "id": "durable-watch",
   "metadata": {},
   "source": [
    "### The unit runoff plot tells a very different story of water availability!\n",
    "\n",
    "Now take the area you estimated earlier for your basin.\n",
    "\n",
    ">i.e. 80 km^2\n",
    "\n",
    "And using each of the three regional stations, calculate an approximate flow series for your project location using the ratio of drainage areas.  Since we've already converted the flow series to unit area runoff, we can just multiply by $\\frac{Area}{1000}$ to get back to $\\frac{m^3}{s}$."
   ]
  },
  {
   "cell_type": "code",
   "execution_count": null,
   "id": "resistant-foundation",
   "metadata": {},
   "outputs": [],
   "source": []
  },
  {
   "cell_type": "markdown",
   "id": "capable-virgin",
   "metadata": {},
   "source": [
    "### Estimate Annual Energy Production \n",
    "\n",
    "Using the three regional stations, estimate the long-term annual energy based on a design flow equal to the MAD.\n"
   ]
  },
  {
   "cell_type": "code",
   "execution_count": null,
   "id": "romance-miller",
   "metadata": {},
   "outputs": [],
   "source": []
  },
  {
   "cell_type": "markdown",
   "id": "empty-century",
   "metadata": {},
   "source": [
    "### Calculate monthly energy for a typical year for each estimated series"
   ]
  },
  {
   "cell_type": "code",
   "execution_count": null,
   "id": "waiting-butter",
   "metadata": {},
   "outputs": [],
   "source": []
  },
  {
   "cell_type": "markdown",
   "id": "intimate-holocaust",
   "metadata": {},
   "source": [
    "### Calculate Expected Annual Energy (and Revenue)\n",
    "\n",
    "Assume revenue is \\$100 per MWh."
   ]
  },
  {
   "cell_type": "code",
   "execution_count": null,
   "id": "casual-light",
   "metadata": {},
   "outputs": [],
   "source": []
  },
  {
   "cell_type": "markdown",
   "id": "vocal-oxford",
   "metadata": {},
   "source": [
    "### How close are the three estimates?\n"
   ]
  },
  {
   "cell_type": "code",
   "execution_count": null,
   "id": "compact-proof",
   "metadata": {},
   "outputs": [],
   "source": []
  }
 ],
 "metadata": {
  "kernelspec": {
   "display_name": "Python 3",
   "language": "python",
   "name": "python3"
  },
  "language_info": {
   "codemirror_mode": {
    "name": "ipython",
    "version": 3
   },
   "file_extension": ".py",
   "mimetype": "text/x-python",
   "name": "python",
   "nbconvert_exporter": "python",
   "pygments_lexer": "ipython3",
   "version": "3.8.5"
  }
 },
 "nbformat": 4,
 "nbformat_minor": 5
}
