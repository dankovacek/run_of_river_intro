{
 "cells": [
  {
   "cell_type": "markdown",
   "metadata": {},
   "source": [
    "# Run of River vs. Storage Hydropower in BC: A Cursory Introduction\n",
    "\n",
    "To start, I'm not an expert on energy policy or history.  The only firm belief I have is that no matter how we supply electricity for the province of British Columbia, the process will be angry and bitter in proportion to the financial and political capital at stake.  The information below is neither complete nor rigorous, but it's a starting point to finding out more about the current state of hydropower development in BC.\n",
    "\n",
    "## BC Energy Plan\n",
    "\n",
    "In 2007, the provincial government (Liberal, Gordon Campbell) presented a [mandate for clean power](https://www2.gov.bc.ca/assets/gov/farming-natural-resources-and-industry/electricity-alternative-energy/bc_energy_plan_2007.pdf) with the goal of energy self-sufficiency, defined as generating 90% of the province's energy from renewables.  At the time, the [latest report from the International Panel on Climate Change (IPCC)](https://www.ipcc.ch/report/ar4/syr/) was showing widespread consensus among international scientists of the effect of greenhouse gases on climate, in particular the burning of fossil fuels.  Also at the time in BC, an energy shortfall was projected, as described in the [2008 Long-term Aquisition Plan (LTAP)](https://www.bcuc.com/Documents/Proceedings/2008/BCH_LTAP_B-1-1_APPENDICES/Appendix%20D.pdf).  In order to meet the projected shortfall, the plan was to issue a request for proposals (RFP) on the open market for renewable energy projects.  Independent power producers competed for a limited amount of electricity purchase agreements (EPAs) from BC Hydro.  Details of the energy acquisition plan can be [found here](https://www.bchydro.com/content/dam/hydro/medialib/internet/documents/planning_regulatory/acquiring_power/2010q3/cpc_rfp_process_report.pdf), but the basic idea was to accept some cost of prioritizing renewable energy over fossil-fuel energy, reduce the risk of cost overruns typical of mega projects, and do so while pursuing environmental and social obligations and goals.  \n",
    "   \n",
    "By 2009, BC Hydro awarded contracts to purchase roughly 3300 GWh of energy from the private sector, and as shown below the program resulted in more than doubling of renewable energy from private developers over the subsequent decade, while reducing the share of fossil fuel aquisition.\n",
    "\n",
    "![](img/bch_aq.jpg)\n",
    "\n"
   ]
  },
  {
   "cell_type": "markdown",
   "metadata": {},
   "source": [
    "## Criticism\n",
    "\n",
    "While many of the arguments concerning the development of new energy supply in BC are presented in terms of financial impacts (environmental and social impacts are covered to a lesser extent), ultimately the battle was for control over billions of dollars in contracts.  Site C is in the best interest of [strong labour unions](https://thenarwhal.ca/ndp-union-heavyweights-come-out-fighting-site-c/) that support the NDP, and fight for fair wages and benefits for workers.  Construction of IPP projects also requires the work of unionized labourers, but the project owners themselves are not crown corporations like BC Hydro, rather they are publicly traded companies like [Innergex Renewable Energy](https://www.innergex.com/), or private corporations like [BluEarth Renewables](https://bluearthrenewables.com/).  Ownership is discussed further below.\n",
    "\n",
    "IPPs are often criticised because profits go to private rather than crown corporations, based on the idea that crown corporations are \"owned\" by taxpayers.  The counter argument is that IPPs bear the burden of financial risk.  The present value of an energy project is primarily a function of the cost of construction, the cost of capital, the demand forecast, and the resource assessment.  In t he case of Site C, the original cost of \\$6B [has inflated to \\$16B](https://www.cbc.ca/news/canada/british-columbia/site-c-announcement-friday-1.5928719) as of February 2021, ultimately to be paid for by both higher electricity rates as well as income tax.  An analysis by [Dolter et al.](https://papers.ssrn.com/sol3/papers.cfm?abstract_id=3742136) suggested the Site C project was not feasible when the estimated cost was roughly \\$11B.  This kind of cost overrun would simply terminate a private project and the loss would be borne by the lender (or shareholders).  The often criticised higher contract price offered to an IPP can thus be seen as an insurance cost.  On the other hand, despite the greater cost of the megaproject, employing a large number of people for several years at the Site C project can be seen as a major benefit.  The question remains how will \\$16B end up being distributed between British Columbians employed on the project, and multinational corporations such as [the main civil works contractor, the Spanish company Acciona](https://www.sitecproject.com/bc-hydro-awards-contract-for-site-c-main-civil-works-to-peace-river-hydro-partners).\n",
    "\n",
    "The Clean Power Call received [criticism](https://www.google.com/url?sa=t&rct=j&q=&esrc=s&source=web&cd=&ved=2ahUKEwiOg_3tjo3vAhWYsp4KHV43BOcQFjAAegQIBBAD&url=https%3A%2F%2Fwww2.gov.bc.ca%2Fassets%2Fgov%2Ffarming-natural-resources-and-industry%2Felectricity-alternative-energy%2Felectricity%2Fbc-hydro-review%2Fbch19-158-ipp_report_february_11_2019.pdf&usg=AOvVaw3qKRyAE_EncoIWhqYvBEFy), in particular the contract price offered to power developers, the accuracy of projected demand, and the [environmental and social impact of work in aquatic ecosystems](https://www.watershed-watch.org/publications/files/RoR-CitizensGuide.pdf).  The BC Sustainable Energy Association [disputed the allegation](https://www.mccarthy.ca/en/insights/blogs/canadian-energy-perspectives/zapping-back-clean-energy-bc-responds-critical-review-bc-hydros-purchase-power-bc-ipps) that BC Hydro was instructed to fabricate demand.  The provincial government formed in 2017 (NDP, Horgan) [officially criticised the LTAP in 2019](https://archive.news.gov.bc.ca/releases/news_releases_2017-2021/2019EMPR0003-000228.htm) as one that would cost ratepayers more than 16 billion over 20 years. BC MLA Andrew Weaver (Green) [disputed this criticism](http://www.andrewweavermla.ca/category/energy-mines/site-c/), pointing out that an amendment to the Clean Energy Act would classify fossil-derived energy as 'clean electricity'.   \n",
    "\n",
    "Site C was (and continues to be) criticised for many of the same reasons as IPPs, such as cost, and environmental and social impacts.  For a broader review of impacts of the Site C project, see [*Reassessing the Need for Site C (Hendriks et al., 2017)*](http://watergovernance.sites.olt.ubc.ca/files/2017/11/2-Site-C-Economics-Report-FINAL.pdf).  The BC Sustainable Energy Association also [contributed to the debate over Site C](https://www.bcsea.org/bcsea-news/site-c-there-better-way), pointing to broad evidence that cost estimates for megaprojects tend to be systematically biased.  [Zhang et al. (2019) studied the cost growth trends in large public projects](https://doi-org.ezproxy.library.ubc.ca/10.1080/01446193.2019.1645344), finding that P3 consistenly outperforms traditional models in cost and schedule.  "
   ]
  },
  {
   "cell_type": "markdown",
   "metadata": {},
   "source": [
    "## Comparison \n",
    "\n",
    "Perhaps this is an unfair comparison, but the figure below presents a comparison of BC's largest reservoir, formed by the WAC Bennett dam, against the largest run-of-river IPP project included in the CPC.  Note that the GM Shrum station at the WAC Bennett dam, combined with the Peace Canyon facility just downstream, generate on average 17,500 GWh per year, roughly 40% of BC Hydro's total energy generation (100x factor difference).  In contrast, the East Toba project in the inset figure generates 700 GWh per year.  Note the vertical red lines represent a distance of approximately 20km.  The flooded area of Williston Lake covers an area of roughly 1800 $km^2$, while the head pond at East Toba (not visible) is $<< 1km^2$.  Run-of-river projects have comparatively small footprints, however [some groups argue](https://www.psf.ca/sites/default/files/lib_78.pdf) that in large numbers, and developed in 'clusters' can result in cumulative environmental impacts.\n",
    "\n",
    "![](img/hp_comparison.jpg)"
   ]
  },
  {
   "cell_type": "markdown",
   "metadata": {},
   "source": [
    "## IPPs and Project Ownership\n",
    "\n",
    "Private projects like the Toba Montrose Hydroelectric Project include [agreements with the local First Nations](https://nationtalk.ca/story/plutonic-power-finalizes-impact-benefits-agreement-with-klahoose-first-nation) (in this case the Klahoose First Nation) establishing the acknowledgement of rights and title to the land, specifying royalties throughout the project life, and specifying construction contracts and employment of First Nations people.  First Nations are part owners in other IPP projects, such as the Kwoiek Creek hydroelectric project, which is an **equal partnership** between the Kanaka Bar Band and Innergex Renewable Energy.  The Tla-o-qui-aht nation on the other hand are the **majority owners** of the Haa-ak-suuk hydropower project on Vancouver Island.  The agreements are varied, and time will tell what arrangements will ultimately prove most beneficial to First Nations.  \n",
    "\n",
    "The Clean Energy Act created provisions for revenue sharing between First Nations partners in renewable energy projects, and a list of IPPs involved in revenue sharing agreements, including the agreements themselves, is [made publicly available by the BC Government](https://www2.gov.bc.ca/gov/content/environment/natural-resource-stewardship/consulting-with-first-nations/first-nations-negotiations/first-nations-clean-energy-business-fund-revenue-sharing-agreements)."
   ]
  },
  {
   "cell_type": "markdown",
   "metadata": {},
   "source": [
    "## Optimization of Resource Usage\n",
    "\n",
    "At the time of the Clean Power Call, BC Hydro was a net-importer of electricity.  Energy trading allows BC Hydro to optimize the use of water in its reservoirs among neighbouring regions with diverse energy sources.  While the capacity existed to satisfy demand in British Columbia at the time, the province was importing more energy than it exported because the cost of purchasing non-renewable energy sources from out of province was at times cheaper than dispatching energy from within BC.  Much of BC's electricity generating capacity is in a few large reservoirs in the Columbia and Peace regions, whose inflows are characterized by large volumes of snowmelt in spring, and relative scarcity in winter and late summer.\n",
    "\n",
    "![Major reservoirs in the Columbia Region](img/columbia_region.jpg)"
   ]
  },
  {
   "cell_type": "markdown",
   "metadata": {},
   "source": [
    "## Projected Electricity Demand\n",
    "\n",
    "Fueling the criticism that BC Hydro was \"forced to pay too much for energy it didn't need\" was the 2008 great recession, when energy consumption in Canada fell 3%, and 5% in the subsequent year, according to the [National Energy Board](https://www.iaee.org/en/publications/proceedingsabstractpdf.aspx?id=16247).  BC Hydro has also been criticised for [inflating energy demand projections](https://commonsensecanadian.ca/bc-hydro-inflates-demand-justify-site-c-dam/) in blog-type publications that have some value in raising interesting points, but are not held to the same standard as peer reviewed academic research.\n",
    "\n",
    "The claim that BC Hydro inflated demand in order to justify the Site C project is unfairly dismissive of the efforts of many of the BC's top scientists and engineers working on the enormously difficult task of long-term demand forecasting.  The figure below is a demand projection from BC Hydro.  The red point was added by me to show that the problem of forecasting is enormously difficult.  Criticising forecasts is easy because it is years before hypotheses can be tested.  Many critics point to future demand from an LNG market that may or may not materialize, or economic recessions (that occurred in 2008, rebounded through 2019, catered in 2020 with the pandemic, etc.)  The mechanisms governing long-term energy demand are inherently random processes, and they cannot be predicted deterministically.\n",
    "\n",
    "The Canadian Centre for Policy Alternatives also [criticized demand projections](https://www.policyalternatives.ca/publications/reports/revisiting-economic-case-site-c), a key point in their argument being the viability of the LNG industry that the provincial goverment (Liberal, Christy Clark) was championing.  [Several projects are currently in development](https://www2.gov.bc.ca/gov/content/industry/natural-gas-oil/lng/lng-projects).\n",
    "\n",
    "![2013 Energy Demand - Point added for 2018 BC Hydro Electricity Generated](img/energy_fc.jpg)\n",
    "\n",
    "\n",
    "\n",
    "\n",
    "\n"
   ]
  },
  {
   "cell_type": "markdown",
   "metadata": {},
   "source": [
    "## Firm vs. Non-Firm Energy\n",
    "\n",
    "How did BC Hydro structure the CPC to incentivize electricity generation when it was most needed?  One way was to offer scheduled price incentives at both seasonal and daily levels.  The incentives are described in the plot below, where it's shown that energy offered in spring is less valuable than winter.  Most of BC's electricity comes from a few large reservoirs, including the WAC Bennett in the Peace region, and the Mica, Revelstoke, and Keenlyside dams in the Columbia river basin.  Similar timing and duration of spring snowmelt means there is a lot of water available while energy demand for heating homes is decreasing in spring as temperatures increase."
   ]
  },
  {
   "cell_type": "code",
   "execution_count": 1,
   "metadata": {},
   "outputs": [],
   "source": [
    "import pandas as pd\n",
    "import numpy as np\n",
    "import matplotlib.pyplot as plt"
   ]
  },
  {
   "cell_type": "markdown",
   "metadata": {},
   "source": [
    "Seasonal and time-of-day adjustment data is from the BC Hydro RFP issuance documents [here](https://www.bchydro.com/work-with-us/selling-clean-energy/closed-offerings/clean-power-call/documents.html)."
   ]
  },
  {
   "cell_type": "code",
   "execution_count": 2,
   "metadata": {},
   "outputs": [
    {
     "data": {
      "text/plain": [
       "<AxesSubplot:>"
      ]
     },
     "execution_count": 2,
     "metadata": {},
     "output_type": "execute_result"
    },
    {
     "data": {
      "image/png": "[encoded data removed]",
      "text/plain": [
       "<Figure size 432x288 with 1 Axes>"
      ]
     },
     "metadata": {
      "filenames": {
       "image/png": "/home/danbot/Documents/BCIT/2021/run_of_river_intro/content/_build/jupyter_execute/notebooks/SiteC_9_1.png"
      },
      "needs_background": "light"
     },
     "output_type": "display_data"
    }
   ],
   "source": [
    "fe = pd.read_csv('data/firm_energy.csv')\n",
    "fe.plot()"
   ]
  },
  {
   "cell_type": "markdown",
   "metadata": {},
   "source": [
    "## Clean Power Call Awards\n",
    "\n",
    "Below is a table of successful projects from the 2007 Clean Power Call ([data source: BC Hydro](https://www.bchydro.com/work-with-us/selling-clean-energy/closed-offerings/clean-power-call/outcome.html)), including hydro, wind, biomass, waste heat, and for some reason coal."
   ]
  },
  {
   "cell_type": "code",
   "execution_count": 3,
   "metadata": {},
   "outputs": [
    {
     "data": {
      "text/plain": [
       "['Biomass', 'Coal / Biomass', 'Water', 'Waste Heat', 'Wind', 'Biomass / Other']"
      ]
     },
     "execution_count": 3,
     "metadata": {},
     "output_type": "execute_result"
    }
   ],
   "source": [
    "df = pd.read_csv('data/CPC.csv')\n",
    "list(set(df['ENERGY SOURCE']))"
   ]
  },
  {
   "cell_type": "code",
   "execution_count": 4,
   "metadata": {},
   "outputs": [
    {
     "data": {
      "text/html": [
       "<div>\n",
       "<style scoped>\n",
       "    .dataframe tbody tr th:only-of-type {\n",
       "        vertical-align: middle;\n",
       "    }\n",
       "\n",
       "    .dataframe tbody tr th {\n",
       "        vertical-align: top;\n",
       "    }\n",
       "\n",
       "    .dataframe thead th {\n",
       "        text-align: right;\n",
       "    }\n",
       "</style>\n",
       "<table border=\"1\" class=\"dataframe\">\n",
       "  <thead>\n",
       "    <tr style=\"text-align: right;\">\n",
       "      <th></th>\n",
       "      <th>BIDDER NAME</th>\n",
       "      <th>PROJECT NAME</th>\n",
       "      <th>NEARBY CITY</th>\n",
       "      <th>ENERGY SOURCE</th>\n",
       "      <th>PLANT CAPACITY (MW)</th>\n",
       "      <th>TOTAL ENERGY (GWH/YR)</th>\n",
       "    </tr>\n",
       "  </thead>\n",
       "  <tbody>\n",
       "    <tr>\n",
       "      <th>0</th>\n",
       "      <td>Plutonic Power Corporation</td>\n",
       "      <td>East Toba and Montrose Hydroelectric Project</td>\n",
       "      <td>Powell River</td>\n",
       "      <td>Water</td>\n",
       "      <td>196.0</td>\n",
       "      <td>702</td>\n",
       "    </tr>\n",
       "    <tr>\n",
       "      <th>4</th>\n",
       "      <td>3986314 Canada Inc.</td>\n",
       "      <td>Canada - Glacier / Howser / East - Project</td>\n",
       "      <td>Nelson</td>\n",
       "      <td>Water</td>\n",
       "      <td>90.5</td>\n",
       "      <td>341</td>\n",
       "    </tr>\n",
       "    <tr>\n",
       "      <th>6</th>\n",
       "      <td>Kwalsa Energy Limited Partnership</td>\n",
       "      <td>Kwalsa Energy Project</td>\n",
       "      <td>Mission</td>\n",
       "      <td>Water</td>\n",
       "      <td>85.9</td>\n",
       "      <td>384</td>\n",
       "    </tr>\n",
       "    <tr>\n",
       "      <th>7</th>\n",
       "      <td>Anyox Hydro Electric Corp.</td>\n",
       "      <td>Anyox and Kitsault River Hydroelectric Projects</td>\n",
       "      <td>Alice Arm</td>\n",
       "      <td>Water</td>\n",
       "      <td>56.5</td>\n",
       "      <td>242</td>\n",
       "    </tr>\n",
       "    <tr>\n",
       "      <th>9</th>\n",
       "      <td>Upper Stave Energy Limited Partnership</td>\n",
       "      <td>Upper Stave Energy Project</td>\n",
       "      <td>Mission</td>\n",
       "      <td>Water</td>\n",
       "      <td>54.7</td>\n",
       "      <td>264</td>\n",
       "    </tr>\n",
       "  </tbody>\n",
       "</table>\n",
       "</div>"
      ],
      "text/plain": [
       "                              BIDDER NAME  \\\n",
       "0              Plutonic Power Corporation   \n",
       "4                     3986314 Canada Inc.   \n",
       "6       Kwalsa Energy Limited Partnership   \n",
       "7              Anyox Hydro Electric Corp.   \n",
       "9  Upper Stave Energy Limited Partnership   \n",
       "\n",
       "                                      PROJECT NAME   NEARBY CITY  \\\n",
       "0     East Toba and Montrose Hydroelectric Project  Powell River   \n",
       "4       Canada - Glacier / Howser / East - Project        Nelson   \n",
       "6                            Kwalsa Energy Project       Mission   \n",
       "7  Anyox and Kitsault River Hydroelectric Projects     Alice Arm   \n",
       "9                       Upper Stave Energy Project       Mission   \n",
       "\n",
       "  ENERGY SOURCE  PLANT CAPACITY (MW)  TOTAL ENERGY (GWH/YR)  \n",
       "0         Water                196.0                    702  \n",
       "4         Water                 90.5                    341  \n",
       "6         Water                 85.9                    384  \n",
       "7         Water                 56.5                    242  \n",
       "9         Water                 54.7                    264  "
      ]
     },
     "execution_count": 4,
     "metadata": {},
     "output_type": "execute_result"
    }
   ],
   "source": [
    "# filter just for the hydropower sources\n",
    "hydro = df[df['ENERGY SOURCE'] == 'Water'].copy()\n",
    "hydro.head()"
   ]
  },
  {
   "cell_type": "code",
   "execution_count": 5,
   "metadata": {},
   "outputs": [
    {
     "data": {
      "text/plain": [
       "Text(0, 0.5, 'Total Energy (Annual) [GWh]')"
      ]
     },
     "execution_count": 5,
     "metadata": {},
     "output_type": "execute_result"
    },
    {
     "data": {
      "image/png": "[encoded data removed]",
      "text/plain": [
       "<Figure size 576x360 with 1 Axes>"
      ]
     },
     "metadata": {
      "filenames": {
       "image/png": "/home/danbot/Documents/BCIT/2021/run_of_river_intro/content/_build/jupyter_execute/notebooks/SiteC_13_1.png"
      },
      "needs_background": "light"
     },
     "output_type": "display_data"
    }
   ],
   "source": [
    "fig, ax = plt.subplots(1, 1, figsize=(8,5))\n",
    "ax.plot(hydro['PLANT CAPACITY (MW)'], hydro['TOTAL ENERGY (GWH/YR)'], 'bo')\n",
    "ax.set_xlabel('Plant Capacity [MW]')\n",
    "ax.set_ylabel('Total Energy (Annual) [GWh]')"
   ]
  },
  {
   "cell_type": "code",
   "execution_count": 6,
   "metadata": {},
   "outputs": [
    {
     "name": "stdout",
     "output_type": "stream",
     "text": [
      "Total energy generation is 3077 GWh/year for 30 projects\n"
     ]
    }
   ],
   "source": [
    "total_energy = hydro['TOTAL ENERGY (GWH/YR)'].sum()\n",
    "print(f'Total energy generation is {total_energy} GWh/year for {len(hydro)} projects')"
   ]
  },
  {
   "cell_type": "markdown",
   "metadata": {},
   "source": [
    "**Note**: this esimate is a 'back of envelope' figure, a very cursory estimate.  There are many more details in the procurement process that affect the actual amounts paid to IPPs, for a more detailed analysis, read the [Energy Aquisition Plan](https://www.bchydro.com/content/dam/hydro/medialib/internet/documents/planning_regulatory/acquiring_power/2010q3/cpc_rfp_process_report.pdf), specifically the [Price Levelization Model](https://www.bchydro.com/work-with-us/selling-clean-energy/closed-offerings/clean-power-call/documents.html).\n",
    "\n",
    "EPA contracts were typically for 20 years, and averaged \\\\$100/MWh.  The present value of the contracts is as follows, assuming a discount rate of 5\\%.  "
   ]
  },
  {
   "cell_type": "code",
   "execution_count": 7,
   "metadata": {},
   "outputs": [
    {
     "name": "stdout",
     "output_type": "stream",
     "text": [
      "The NPV of the 2007 CPC is $4.0B\n",
      "The present value unit cost of 3077 GWh annual energy supply from the CPC is $1309$/MWh.\n"
     ]
    }
   ],
   "source": [
    "import numpy_financial as npf\n",
    "\n",
    "mean_annual_energy = total_energy * 1000 # Total CPC energy contracts, GWh/year, convert to MWh/year\n",
    "avg_contract_price = 100 #$100/MWh\n",
    "\n",
    "# mean annual costs for 20 year contract, all projects\n",
    "annual_costs = [mean_annual_energy * avg_contract_price for y in range(20)]\n",
    "\n",
    "# calculate the net present value of the EPA contracts\n",
    "npv = npf.npv(rate=0.05, values=annual_costs)\n",
    "print(f'The NPV of the 2007 CPC is ${npv/1E9:.1f}B')\n",
    "\n",
    "unit_energy_npv = npv / (mean_annual_energy)\n",
    "print(f'The present value unit cost of {mean_annual_energy/1E3:.0f} GWh annual energy supply from the CPC is ${unit_energy_npv:.0f}$/MWh.')"
   ]
  },
  {
   "cell_type": "markdown",
   "metadata": {},
   "source": [
    "## Estimated Cost of Site C\n",
    "\n",
    "[According to BC Hydro](https://www.bchydro.com/energy-in-bc/projects/site_c.html), the 1100 MW capacity Site C project is estimated to generate 5100 GWh (mean annual).\n",
    "\n",
    "The current estimated capital cost of Site C is \\\\$16B, roughly \\\\$10B greater than the original estimate. ([CBC](https://www.cbc.ca/news/canada/british-columbia/site-c-announcement-friday-1.5928719))\n",
    "\n",
    "Admittedly, the comparison below is likely too simplified to be meaningful, but it raises the question of how such comparisons might be improved?"
   ]
  },
  {
   "cell_type": "code",
   "execution_count": 8,
   "metadata": {},
   "outputs": [
    {
     "name": "stdout",
     "output_type": "stream",
     "text": [
      "The present value *construction* cost of 5100 GWh annual energy supply in the CPC is $3137/MWh\n"
     ]
    }
   ],
   "source": [
    "siteC_annual_energy = 5100 * 1000 # convert mean annual energy to MWh\n",
    "siteC_unit_cost = 16E9 / siteC_annual_energy\n",
    "print(f'The present value *construction* cost of {siteC_annual_energy/1E3:.0f} GWh annual energy supply in the CPC is ${siteC_unit_cost:.0f}/MWh')"
   ]
  },
  {
   "cell_type": "markdown",
   "metadata": {},
   "source": [
    "## Discussion Question\n",
    "\n",
    "Comparing the costs and benefit of mega projects vs. smaller distributed energy generation has been the focus of vigorous debate for decades.\n",
    "\n",
    "These debates often focus primarily on finance, which despite being difficult to make accurate estimates, are still easier to quantify than environmental and social aspects.  \n",
    "\n",
    "### How can environmental and social objectives be set and evaluated such that they are more prominent in decisions about how BC generates the electricity we need?"
   ]
  },
  {
   "cell_type": "code",
   "execution_count": null,
   "metadata": {},
   "outputs": [],
   "source": []
  }
 ],
 "metadata": {
  "kernelspec": {
   "display_name": "Python 3",
   "language": "python",
   "name": "python3"
  },
  "language_info": {
   "codemirror_mode": {
    "name": "ipython",
    "version": 3
   },
   "file_extension": ".py",
   "mimetype": "text/x-python",
   "name": "python",
   "nbconvert_exporter": "python",
   "pygments_lexer": "ipython3",
   "version": "3.8.5"
  }
 },
 "nbformat": 4,
 "nbformat_minor": 4
}